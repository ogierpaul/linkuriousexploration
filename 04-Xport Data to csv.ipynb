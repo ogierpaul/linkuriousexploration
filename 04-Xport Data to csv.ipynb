{
 "cells": [
  {
   "cell_type": "code",
   "execution_count": 86,
   "metadata": {
    "collapsed": true
   },
   "outputs": [],
   "source": [
    "import py2neo\n",
    "graph = py2neo.Graph(user='neo4j',password='admin')"
   ]
  },
  {
   "cell_type": "markdown",
   "metadata": {},
   "source": [
    "### Export Duns"
   ]
  },
  {
   "cell_type": "code",
   "execution_count": 87,
   "metadata": {
    "collapsed": false
   },
   "outputs": [
    {
     "name": "stdout",
     "output_type": "stream",
     "text": [
      "filename: dunsexport.csv\n",
      "shape of table (25, 17)\n",
      "total node spent 2575.0\n",
      "node / aggregate spent coherent: True\n"
     ]
    }
   ],
   "source": [
    "filename='dunsexport.csv'\n",
    "\n",
    "query='''\n",
    "MATCH (n:DunsID)\n",
    "RETURN properties(n) as data\n",
    "'''\n",
    "result=graph.data(query)\n",
    "x=pd.Series(result).apply(lambda r:r['data'])\n",
    "duns=x.apply(lambda r:pd.Series(r))\n",
    "duns.to_csv('../../Neo4j/sourcingreport.graphdb/'+filename,encoding='utf-8',sep='|',index=False)\n",
    "print('filename:',filename)\n",
    "print('shape of table',duns.shape)\n",
    "print('total node spent',duns['nodespent'].sum())\n",
    "print('node / aggregate spent coherent:',duns['nodespent'].sum()==duns.loc[duns['isglobalroot']==True,'aggregatespent'].sum())"
   ]
  },
  {
   "cell_type": "markdown",
   "metadata": {},
   "source": [
    "### Export ERP"
   ]
  },
  {
   "cell_type": "code",
   "execution_count": 88,
   "metadata": {
    "collapsed": false
   },
   "outputs": [
    {
     "name": "stdout",
     "output_type": "stream",
     "text": [
      "filename: erpexport.csv\n",
      "shape of table (50, 14)\n",
      "total erp spent 2575.0\n",
      "duns / erp aggregate spent coherent: True\n"
     ]
    }
   ],
   "source": [
    "filename='erpexport.csv'\n",
    "\n",
    "query='''\n",
    "MATCH (n:ErpID)\n",
    "RETURN properties(n) as data\n",
    "'''\n",
    "result=graph.data(query)\n",
    "x=pd.Series(result).apply(lambda r:r['data'])\n",
    "erp=x.apply(lambda r:pd.Series(r))\n",
    "erp.to_csv('../../Neo4j/sourcingreport.graphdb/'+filename,encoding='utf-8',sep='|',index=False)\n",
    "print('filename:',filename)\n",
    "print('shape of table',erp.shape)\n",
    "print('total erp spent',erp['spent'].sum())\n",
    "print('duns / erp aggregate spent coherent:',duns['nodespent'].sum()==erp['spent'].sum())"
   ]
  },
  {
   "cell_type": "code",
   "execution_count": null,
   "metadata": {
    "collapsed": true
   },
   "outputs": [],
   "source": []
  }
 ],
 "metadata": {
  "kernelspec": {
   "display_name": "Python 3",
   "language": "python",
   "name": "python3"
  },
  "language_info": {
   "codemirror_mode": {
    "name": "ipython",
    "version": 3
   },
   "file_extension": ".py",
   "mimetype": "text/x-python",
   "name": "python",
   "nbconvert_exporter": "python",
   "pygments_lexer": "ipython3",
   "version": "3.6.1"
  }
 },
 "nbformat": 4,
 "nbformat_minor": 2
}
