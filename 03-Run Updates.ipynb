{
 "cells": [
  {
   "cell_type": "markdown",
   "metadata": {},
   "source": [
    "# Run Updates"
   ]
  },
  {
   "cell_type": "markdown",
   "metadata": {},
   "source": [
    "### Connect to Graph"
   ]
  },
  {
   "cell_type": "code",
   "execution_count": 1,
   "metadata": {
    "collapsed": true
   },
   "outputs": [],
   "source": [
    "import py2neo\n",
    "graph = py2neo.Graph(user='neo4j',password='admin')"
   ]
  },
  {
   "cell_type": "markdown",
   "metadata": {},
   "source": [
    "# Global Root Update"
   ]
  },
  {
   "cell_type": "code",
   "execution_count": 3,
   "metadata": {
    "collapsed": false
   },
   "outputs": [
    {
     "name": "stdout",
     "output_type": "stream",
     "text": [
      "{'constraints_added': 0, 'constraints_removed': 0, 'indexes_added': 0, 'indexes_removed': 0, 'labels_added': 0, 'labels_removed': 0, 'nodes_created': 0, 'nodes_deleted': 0, 'properties_set': 238405, 'relationships_deleted': 0, 'relationships_created': 0, 'contains_updates': True}\n",
      "{'constraints_added': 0, 'constraints_removed': 0, 'indexes_added': 0, 'indexes_removed': 0, 'labels_added': 0, 'labels_removed': 0, 'nodes_created': 0, 'nodes_deleted': 0, 'properties_set': 238405, 'relationships_deleted': 0, 'relationships_created': 0, 'contains_updates': True}\n",
      "{'constraints_added': 0, 'constraints_removed': 0, 'indexes_added': 0, 'indexes_removed': 0, 'labels_added': 0, 'labels_removed': 0, 'nodes_created': 0, 'nodes_deleted': 0, 'properties_set': 0, 'relationships_deleted': 0, 'relationships_created': 0, 'contains_updates': False}\n",
      "{'constraints_added': 0, 'constraints_removed': 0, 'indexes_added': 0, 'indexes_removed': 0, 'labels_added': 170780, 'labels_removed': 0, 'nodes_created': 0, 'nodes_deleted': 0, 'properties_set': 170780, 'relationships_deleted': 0, 'relationships_created': 0, 'contains_updates': True}\n"
     ]
    }
   ],
   "source": [
    "# Count the number of relationships\n",
    "query_attributenfathers='''\n",
    "MATCH (n:DunsID)\n",
    "OPTIONAL MATCH (n)-[r:isChildOf]->(c)\n",
    "WITH n, count(c) AS nfathers\n",
    "SET n.nfathers = nfathers\n",
    "'''\n",
    "a=graph.run(query_attributenfathers)\n",
    "print(a.stats())\n",
    "#if there are no relationships then update the isglobalroot attribute\n",
    "query_attributeglobalroot='''\n",
    "MATCH (n:DunsID)\n",
    "WITH n, (CASE n.nfathers WHEN 0 THEN True Else False END) as root\n",
    "SET n.isglobalroot = root\n",
    "'''\n",
    "a=graph.run(query_attributeglobalroot)\n",
    "print(a.stats())\n",
    "\n",
    "#Update the labels accordingly\n",
    "query_labelglobalroot1='''\n",
    "MATCH (n:DunsID{isglobalroot:False})\n",
    "REMOVE n:GlobalRoot, n.rootname'''\n",
    "a=graph.run(query_labelglobalroot1)\n",
    "print(a.stats())\n",
    "\n",
    "query_labelglobalroot2='''\n",
    "MATCH (m:DunsID{isglobalroot:True})\n",
    "Set m:GlobalRoot,m.rootname = m.companyname;\n",
    "'''\n",
    "a=graph.run(query_labelglobalroot2)\n",
    "print(a.stats())"
   ]
  },
  {
   "cell_type": "markdown",
   "metadata": {},
   "source": [
    "### Global Root and Direct Parent attribute update for export"
   ]
  },
  {
   "cell_type": "markdown",
   "metadata": {},
   "source": [
    "#### Duns5"
   ]
  },
  {
   "cell_type": "code",
   "execution_count": 4,
   "metadata": {
    "collapsed": false
   },
   "outputs": [
    {
     "name": "stdout",
     "output_type": "stream",
     "text": [
      "{'constraints_added': 0, 'constraints_removed': 0, 'indexes_added': 0, 'indexes_removed': 0, 'labels_added': 0, 'labels_removed': 0, 'nodes_created': 0, 'nodes_deleted': 0, 'properties_set': 238405, 'relationships_deleted': 0, 'relationships_created': 0, 'contains_updates': True}\n"
     ]
    }
   ],
   "source": [
    "query_duns5='''\n",
    "MATCH (n:DunsID)-[:isChildOf*0..]->(r:GlobalRoot)\n",
    "SET n.duns5_calc=r.dunsid;\n",
    "'''\n",
    "a=graph.run(query_duns5)\n",
    "print(a.stats())"
   ]
  },
  {
   "cell_type": "markdown",
   "metadata": {},
   "source": [
    "#### Parent Duns"
   ]
  },
  {
   "cell_type": "code",
   "execution_count": 5,
   "metadata": {
    "collapsed": false
   },
   "outputs": [
    {
     "name": "stdout",
     "output_type": "stream",
     "text": [
      "{'constraints_added': 0, 'constraints_removed': 0, 'indexes_added': 0, 'indexes_removed': 0, 'labels_added': 0, 'labels_removed': 0, 'nodes_created': 0, 'nodes_deleted': 0, 'properties_set': 67625, 'relationships_deleted': 0, 'relationships_created': 0, 'contains_updates': True}\n",
      "{'constraints_added': 0, 'constraints_removed': 0, 'indexes_added': 0, 'indexes_removed': 0, 'labels_added': 0, 'labels_removed': 0, 'nodes_created': 0, 'nodes_deleted': 0, 'properties_set': 170780, 'relationships_deleted': 0, 'relationships_created': 0, 'contains_updates': True}\n"
     ]
    }
   ],
   "source": [
    "query_duns3='''\n",
    "MATCH (n:DunsID{isglobalroot:False})-[:isChildOf]->(r:DunsID)\n",
    "SET n.parentdunsid=r.dunsid;\n",
    "'''\n",
    "a=graph.run(query_duns3)\n",
    "print(a.stats())\n",
    "query_duns3_bis='''\n",
    "MATCH (n:GlobalRoot)\n",
    "SET n.parentdunsid=n.dunsid;'''\n",
    "a=graph.run(query_duns3_bis)\n",
    "print(a.stats())"
   ]
  },
  {
   "cell_type": "markdown",
   "metadata": {},
   "source": [
    "# Spent"
   ]
  },
  {
   "cell_type": "markdown",
   "metadata": {},
   "source": [
    "### Per Duns Node"
   ]
  },
  {
   "cell_type": "code",
   "execution_count": 6,
   "metadata": {
    "collapsed": false
   },
   "outputs": [
    {
     "name": "stdout",
     "output_type": "stream",
     "text": [
      "{'constraints_added': 0, 'constraints_removed': 0, 'indexes_added': 0, 'indexes_removed': 0, 'labels_added': 0, 'labels_removed': 0, 'nodes_created': 0, 'nodes_deleted': 0, 'properties_set': 279610, 'relationships_deleted': 0, 'relationships_created': 0, 'contains_updates': True}\n"
     ]
    }
   ],
   "source": [
    "query_nodeturnover='''\n",
    "MATCH(m:DunsID)\n",
    "SET m.nodeturnover=0\n",
    "with count(m) as temp\n",
    "MATCH (n:DunsID)<-[:hasDuns]-(s:ErpID)\n",
    "WITH n,SUM(s.turnover) as erpturnover\n",
    "SET n.nodeturnover=erpturnover;\n",
    "'''\n",
    "a = graph.run(query_nodeturnover)\n",
    "print(a.stats())"
   ]
  },
  {
   "cell_type": "code",
   "execution_count": 7,
   "metadata": {
    "collapsed": false
   },
   "outputs": [
    {
     "name": "stdout",
     "output_type": "stream",
     "text": [
      "{'constraints_added': 0, 'constraints_removed': 0, 'indexes_added': 0, 'indexes_removed': 0, 'labels_added': 0, 'labels_removed': 0, 'nodes_created': 0, 'nodes_deleted': 0, 'properties_set': 279610, 'relationships_deleted': 0, 'relationships_created': 0, 'contains_updates': True}\n"
     ]
    }
   ],
   "source": [
    "query_nodeordervolume='''\n",
    "MATCH(m:DunsID)\n",
    "SET m.nodeordervolume=0\n",
    "with count(m) as temp\n",
    "MATCH (n:DunsID)<-[:hasDuns]-(s:ErpID)\n",
    "WITH n,SUM(s.ordervolume) as erpordervolume\n",
    "SET n.nodeordervolume=erpordervolume;\n",
    "'''\n",
    "a = graph.run(query_nodeordervolume)\n",
    "print(a.stats())"
   ]
  },
  {
   "cell_type": "markdown",
   "metadata": {
    "collapsed": true
   },
   "source": [
    "### Aggregate turnover"
   ]
  },
  {
   "cell_type": "code",
   "execution_count": 8,
   "metadata": {
    "collapsed": false
   },
   "outputs": [
    {
     "name": "stdout",
     "output_type": "stream",
     "text": [
      "{'constraints_added': 0, 'constraints_removed': 0, 'indexes_added': 0, 'indexes_removed': 0, 'labels_added': 0, 'labels_removed': 0, 'nodes_created': 0, 'nodes_deleted': 0, 'properties_set': 44258, 'relationships_deleted': 0, 'relationships_created': 0, 'contains_updates': True}\n",
      "{'constraints_added': 0, 'constraints_removed': 0, 'indexes_added': 0, 'indexes_removed': 0, 'labels_added': 0, 'labels_removed': 0, 'nodes_created': 0, 'nodes_deleted': 0, 'properties_set': 170780, 'relationships_deleted': 0, 'relationships_created': 0, 'contains_updates': True}\n"
     ]
    }
   ],
   "source": [
    "old_query='''\n",
    "MATCH (n:DunsID)<-[:isChildOf*0..]-(child:DunsID)\n",
    "WITH n,sum(child.nodeturnover) AS value\n",
    "SET n.aggregateturnover = value\n",
    "'''\n",
    "\n",
    "query_leaves='''\n",
    "MATCH path=(r:GlobalRoot)<-[:isChildOf*0..]-(b:DunsID), (b)<-[:isChildOf]-(l:DunsID)\n",
    "WITH b, length(path) as depth, collect(l) as ls\n",
    "ORDER BY depth desc\n",
    "SET b.aggregateturnover = REDUCE(acc = COALESCE(b.nodeturnover,0), l IN ls | acc + COALESCE(l.aggregateturnover, l.nodeturnover, 0))\n",
    "'''\n",
    "a=graph.run(query_leaves)\n",
    "print(a.stats())\n",
    "\n",
    "query_root='''\n",
    "MATCH (n:GlobalRoot)\n",
    "OPTIONAL MATCH (n)<-[:isChildOf]-(child:DunsID)\n",
    "WITH n,sum(child.aggregateturnover) AS value\n",
    "SET n.aggregateturnover = value+n.nodeturnover\n",
    "'''\n",
    "a=graph.run(query_root)\n",
    "print(a.stats())"
   ]
  },
  {
   "cell_type": "markdown",
   "metadata": {},
   "source": [
    "### Aggregate ordervolume"
   ]
  },
  {
   "cell_type": "code",
   "execution_count": 9,
   "metadata": {
    "collapsed": false
   },
   "outputs": [
    {
     "name": "stdout",
     "output_type": "stream",
     "text": [
      "{'constraints_added': 0, 'constraints_removed': 0, 'indexes_added': 0, 'indexes_removed': 0, 'labels_added': 0, 'labels_removed': 0, 'nodes_created': 0, 'nodes_deleted': 0, 'properties_set': 44258, 'relationships_deleted': 0, 'relationships_created': 0, 'contains_updates': True}\n",
      "{'constraints_added': 0, 'constraints_removed': 0, 'indexes_added': 0, 'indexes_removed': 0, 'labels_added': 0, 'labels_removed': 0, 'nodes_created': 0, 'nodes_deleted': 0, 'properties_set': 170780, 'relationships_deleted': 0, 'relationships_created': 0, 'contains_updates': True}\n"
     ]
    }
   ],
   "source": [
    "query_leaves='''\n",
    "MATCH path=(r:GlobalRoot)<-[:isChildOf*0..]-(b:DunsID), (b)<-[:isChildOf]-(l:DunsID)\n",
    "WITH b, length(path) as depth, collect(l) as ls\n",
    "ORDER BY depth desc\n",
    "SET b.aggregateordervolume = REDUCE(acc = COALESCE(b.nodeordervolume,0), l IN ls | acc + COALESCE(l.aggregateordervolume, l.nodeordervolume, 0))\n",
    "'''\n",
    "a=graph.run(query_leaves)\n",
    "print(a.stats())\n",
    "\n",
    "query_root='''\n",
    "MATCH (n:GlobalRoot)\n",
    "OPTIONAL MATCH (n)<-[:isChildOf]-(child:DunsID)\n",
    "WITH n,sum(child.aggregateordervolume) AS value\n",
    "SET n.aggregateordervolume = value+n.nodeordervolume\n",
    "'''\n",
    "a=graph.run(query_root)\n",
    "print(a.stats())"
   ]
  }
 ],
 "metadata": {
  "kernelspec": {
   "display_name": "Python 3",
   "language": "python",
   "name": "python3"
  },
  "language_info": {
   "codemirror_mode": {
    "name": "ipython",
    "version": 3
   },
   "file_extension": ".py",
   "mimetype": "text/x-python",
   "name": "python",
   "nbconvert_exporter": "python",
   "pygments_lexer": "ipython3",
   "version": "3.6.0"
  }
 },
 "nbformat": 4,
 "nbformat_minor": 2
}
