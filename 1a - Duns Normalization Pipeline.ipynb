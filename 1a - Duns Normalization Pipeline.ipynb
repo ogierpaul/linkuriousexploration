{
 "cells": [
  {
   "cell_type": "markdown",
   "metadata": {},
   "source": [
    "# Duns Normalization Pipeline\n",
    "This notebook is to normalize (i.e. simplify) the duns file received from DnB prepare a file\n",
    "- with each row corresponding to a duns record\n",
    "- each record has identification (dunsid, name, others ids), localization (city, country..)\n",
    "- each record has the direct parent (either found originally in DnB file (duns3), or calculated)"
   ]
  },
  {
   "cell_type": "markdown",
   "metadata": {},
   "source": [
    "### Read the file"
   ]
  },
  {
   "cell_type": "code",
   "execution_count": 105,
   "metadata": {
    "collapsed": false
   },
   "outputs": [],
   "source": [
    "filepath='../1-AD/3-DUNS/'\n",
    "filename='2017-10-19 DUNS Suppliers_2POR.xlsx'\n",
    "df=pd.read_excel(filepath+filename)"
   ]
  },
  {
   "cell_type": "markdown",
   "metadata": {
    "collapsed": true
   },
   "source": [
    "df2=df.sample(1000)[['dunsnumber_01', 'name_01', 'name_02', 'street_01a', 'city_01',\n",
    "       'countryname_01', 'countrycode_01', 'registerid_01', 'dunsnumber_03',\n",
    "       'name_03', 'street_03', 'city_03', 'countryname_03', 'countrycode_03',\n",
    "       'zip_03', 'dunsnumber_04', 'name_04', 'street_04', 'city_04',\n",
    "       'countrycode_04', 'dunsnumber_05', 'name_05', 'street_05', 'city_05',\n",
    "       'countryname_05', 'countrycode_05']]\n",
    "df2.to_csv(filepath+'duns_sample.csv',encoding='utf-8',sep='|',index=False)\n",
    "#df=pd.read_csv('duns_sample.csv',encoding='utf-8',sep='|')"
   ]
  },
  {
   "cell_type": "code",
   "execution_count": 106,
   "metadata": {
    "collapsed": false
   },
   "outputs": [
    {
     "data": {
      "text/plain": [
       "dunsnumber_01                                                                      0.000000\n",
       "name_01                                                                            0.000004\n",
       "name_02                                                                            0.700492\n",
       "street_01a                                                                         0.006555\n",
       "city_01                                                                            0.000895\n",
       "countryname_01                                                                     0.000004\n",
       "countrycode_01                                                                     0.000013\n",
       "registerid_01                                                                      0.230801\n",
       "dunsnumber_03                                                                      0.000004\n",
       "name_03                                                                            0.545998\n",
       "street_03                                                                          0.547895\n",
       "city_03                                                                            0.546816\n",
       "countryname_03                                                                     0.545998\n",
       "countrycode_03                                                                     0.546222\n",
       "zip_03                                                                             0.550532\n",
       "dunsnumber_04                                                                      0.000004\n",
       "name_04                                                                            0.545998\n",
       "street_04                                                                          0.548028\n",
       "city_04                                                                            0.546794\n",
       "countrycode_04                                                                     0.545998\n",
       "dunsnumber_05                                                                      0.000004\n",
       "name_05                                                                            0.545998\n",
       "street_05                                                                          0.548437\n",
       "city_05                                                                            0.546966\n",
       "countryname_05                                                                     0.545998\n",
       "countrycode_05                                                                     0.546222\n",
       "out of bus                                                                         0.000228\n",
       "Supplier Number - EADS Supplier Parent D-U-N-S® Number (enr)                       0.204832\n",
       "Supplier Number - EADS Supplier Parent Name (enr)                                  0.204832\n",
       "Supplier Number - EADS Supplier Parent Country (enr)                               0.204832\n",
       "Supplier Number - EADS Supplier Domestic Ultimate Parent D-U-N-SÂ® Number (enr)    0.204832\n",
       "Supplier Number - EADS Supplier Domestic Ultimate Parent Name (enr)                0.204832\n",
       "Supplier Number - EADS Supplier Domestic Ultimate Parent City (enr)                0.204832\n",
       "Supplier Number - EADS Supplier Domestic Ultimate Parent Country (enr)             0.204840\n",
       "Supplier Number - EADS Supplier Global Ultimate Parent D-U-N-SÂ® Number (enr)      0.204832\n",
       "Supplier Number - EADS Supplier Global Ultimate Parent Name (enr)                  0.204832\n",
       "Supplier Number - EADS Supplier Global Ultimate Parent City (enr)                  0.204832\n",
       "Supplier Number - EADS Supplier Global Ultimate Parent Country (enr)               0.204832\n",
       "dtype: float64"
      ]
     },
     "execution_count": 106,
     "metadata": {},
     "output_type": "execute_result"
    }
   ],
   "source": [
    "df.isnull().sum()/df.shape[0]"
   ]
  },
  {
   "cell_type": "markdown",
   "metadata": {},
   "source": [
    "# Create a dictionnary with all available information on duns"
   ]
  },
  {
   "cell_type": "markdown",
   "metadata": {},
   "source": [
    "### Concatenate the names of the different name columns (name 1,2)"
   ]
  },
  {
   "cell_type": "code",
   "execution_count": 107,
   "metadata": {
    "collapsed": false
   },
   "outputs": [],
   "source": [
    "def concatenate_names(myrow):\n",
    "    '''\n",
    "    This small function concatenate the different company names found across the names columns of SAP (name1, name2..)\n",
    "    It takes the name found in the first column. If the name in the second column adds information to the first, \n",
    "    it concatenates (by adding it in brackets). And it continues like this for the other columns\n",
    "    example:\n",
    "    name1='KNIGHT FRANK (SA) PTY LTD'\n",
    "    name2='KNIGHT FRANK'\n",
    "    name3='ex-batman'\n",
    "    name4='kapis code 3000'\n",
    "    concatenate_names([name1,name2,name3,name4]):\n",
    "        'KNIGHT FRANK (SA) PTY LTD (ex-batman, kapis code 3000)'\n",
    "    '''\n",
    "    from neatmartinet import compare_tokenized_strings\n",
    "    from neatmartinet import normalizechars\n",
    "    r = pd.Series(myrow,index=range(len(myrow)))\n",
    "    r.dropna(inplace=True)\n",
    "    if r.shape[0]==0:\n",
    "        return None\n",
    "    elif r.shape[0]==1:\n",
    "        return r[0]\n",
    "    else:\n",
    "        s = r[0]\n",
    "        for ix in range(1,len(r)):\n",
    "            s1=normalizechars(s)\n",
    "            r1=normalizechars(r[ix])\n",
    "            score=compare_tokenized_strings(s1,r1)\n",
    "            if pd.isnull(score) or score <0.8:\n",
    "                if len(s)==len(r[0]):\n",
    "                    s=s+' ('+r[ix]+')'\n",
    "                else:\n",
    "                    s=s.rstrip(')')+', '+r[ix]+')'\n",
    "        return s\n",
    "df['concatenatedname']=df[['name_01','name_02']].apply(lambda r:concatenate_names(r.values),axis=1)"
   ]
  },
  {
   "cell_type": "code",
   "execution_count": 108,
   "metadata": {
    "collapsed": false
   },
   "outputs": [
    {
     "data": {
      "text/plain": [
       "Index(['dunsnumber_01', 'name_01', 'name_02', 'street_01a', 'city_01',\n",
       "       'countryname_01', 'countrycode_01', 'registerid_01', 'dunsnumber_03',\n",
       "       'name_03', 'street_03', 'city_03', 'countryname_03', 'countrycode_03',\n",
       "       'zip_03', 'dunsnumber_04', 'name_04', 'street_04', 'city_04',\n",
       "       'countrycode_04', 'dunsnumber_05', 'name_05', 'street_05', 'city_05',\n",
       "       'countryname_05', 'countrycode_05', 'out of bus',\n",
       "       'Supplier Number - EADS Supplier Parent D-U-N-S® Number (enr)',\n",
       "       'Supplier Number - EADS Supplier Parent Name (enr)',\n",
       "       'Supplier Number - EADS Supplier Parent Country (enr)',\n",
       "       'Supplier Number - EADS Supplier Domestic Ultimate Parent D-U-N-SÂ® Number (enr)',\n",
       "       'Supplier Number - EADS Supplier Domestic Ultimate Parent Name (enr)',\n",
       "       'Supplier Number - EADS Supplier Domestic Ultimate Parent City (enr)',\n",
       "       'Supplier Number - EADS Supplier Domestic Ultimate Parent Country (enr)',\n",
       "       'Supplier Number - EADS Supplier Global Ultimate Parent D-U-N-SÂ® Number (enr)',\n",
       "       'Supplier Number - EADS Supplier Global Ultimate Parent Name (enr)',\n",
       "       'Supplier Number - EADS Supplier Global Ultimate Parent City (enr)',\n",
       "       'Supplier Number - EADS Supplier Global Ultimate Parent Country (enr)',\n",
       "       'concatenatedname'],\n",
       "      dtype='object')"
      ]
     },
     "execution_count": 108,
     "metadata": {},
     "output_type": "execute_result"
    }
   ],
   "source": [
    "df.columns"
   ]
  },
  {
   "cell_type": "code",
   "execution_count": 109,
   "metadata": {
    "collapsed": true
   },
   "outputs": [],
   "source": [
    "df=df.loc[df['dunsnumber_01']!='NDM999999']"
   ]
  },
  {
   "cell_type": "markdown",
   "metadata": {},
   "source": [
    "### Re-normalize the duns information\n",
    "this is without the parent ids"
   ]
  },
  {
   "cell_type": "code",
   "execution_count": 110,
   "metadata": {
    "collapsed": false
   },
   "outputs": [
    {
     "name": "stdout",
     "output_type": "stream",
     "text": [
      "missing cols 1: ['zip_01']\n"
     ]
    },
    {
     "name": "stderr",
     "output_type": "stream",
     "text": [
      "/Users/paulogier/anaconda/lib/python3.6/site-packages/pandas/core/frame.py:2746: SettingWithCopyWarning: \n",
      "A value is trying to be set on a copy of a slice from a DataFrame\n",
      "\n",
      "See the caveats in the documentation: http://pandas.pydata.org/pandas-docs/stable/indexing.html#indexing-view-versus-copy\n",
      "  **kwargs)\n",
      "/Users/paulogier/anaconda/lib/python3.6/site-packages/ipykernel_launcher.py:49: SettingWithCopyWarning: \n",
      "A value is trying to be set on a copy of a slice from a DataFrame.\n",
      "Try using .loc[row_indexer,col_indexer] = value instead\n",
      "\n",
      "See the caveats in the documentation: http://pandas.pydata.org/pandas-docs/stable/indexing.html#indexing-view-versus-copy\n",
      "/Users/paulogier/anaconda/lib/python3.6/site-packages/ipykernel_launcher.py:50: SettingWithCopyWarning: \n",
      "A value is trying to be set on a copy of a slice from a DataFrame.\n",
      "Try using .loc[row_indexer,col_indexer] = value instead\n",
      "\n",
      "See the caveats in the documentation: http://pandas.pydata.org/pandas-docs/stable/indexing.html#indexing-view-versus-copy\n"
     ]
    },
    {
     "name": "stdout",
     "output_type": "stream",
     "text": [
      "232507\n",
      "missing cols 3: ['registerid_03']\n",
      "5613\n",
      "missing cols 4: ['zip_04', 'countryname_04', 'registerid_04']\n",
      "428\n",
      "missing cols 5: ['zip_05', 'registerid_05']\n",
      "208\n",
      "238756\n"
     ]
    }
   ],
   "source": [
    "duns1_coldict={\n",
    "    'dunsnumber_01':'dunsid',\n",
    "    'concatenatedname':'companyname',\n",
    "    'street_01a':'street',\n",
    "    'city_01':'city',\n",
    "    'zip_01':'postalcode',\n",
    "    'countryname_01':'countryname',\n",
    "    'countrycode_01':'countrycode',\n",
    "    'registerid_01':'registerid'   \n",
    "}\n",
    "duns3_coldict={\n",
    "    'dunsnumber_03':'dunsid',\n",
    "    'name_03':'companyname',\n",
    "    'street_03':'street',\n",
    "    'city_03':'city',\n",
    "    'zip_03':'postalcode',\n",
    "    'countryname_03':'countryname',\n",
    "    'countrycode_03':'countrycode',\n",
    "    'registerid_03':'registerid'   \n",
    "}\n",
    "duns4_coldict={\n",
    "    'dunsnumber_04':'dunsid',\n",
    "    'name_04':'companyname',\n",
    "    'street_04':'street',\n",
    "    'city_04':'city',\n",
    "    'zip_04':'postalcode',\n",
    "    'countryname_04':'countryname',\n",
    "    'countrycode_04':'countrycode',\n",
    "    'registerid_04':'registerid'   \n",
    "}\n",
    "duns5_coldict={\n",
    "    'dunsnumber_05':'dunsid',\n",
    "    'name_05':'companyname',\n",
    "    'street_05':'street',\n",
    "    'city_05':'city',\n",
    "    'zip_05':'postalcode',\n",
    "    'countryname_05':'countryname',\n",
    "    'countrycode_05':'countrycode',\n",
    "    'registerid_05':'registerid'   \n",
    "}\n",
    "\n",
    "referencedata=pd.DataFrame(columns=list(duns1_coldict.values())+['source_level'])\n",
    "\n",
    "#duns1\n",
    "#select from possible columns the ones that are in the dataframe\n",
    "temp=df[np.intersect1d(list(duns1_coldict.keys()),df.columns)]\n",
    "print('missing cols 1:',[c for c in duns1_coldict.keys() if not c in df.columns])\n",
    "temp.rename(columns=duns1_coldict,inplace=True)\n",
    "temp['source_level']='duns1'\n",
    "temp['dunsid']=temp['dunsid'].astype(int)\n",
    "#drop the duplicates\n",
    "temp=temp.drop_duplicates(subset=['dunsid'])\n",
    "print(temp.shape[0])\n",
    "referencedata=pd.concat([referencedata,temp]).copy()\n",
    "\n",
    "#duns3\n",
    "temp=df[np.intersect1d(list(duns3_coldict.keys()),df.columns)].copy()\n",
    "print('missing cols 3:',[c for c in duns3_coldict.keys() if not c in df.columns])\n",
    "temp.rename(columns=duns3_coldict,inplace=True)\n",
    "temp['source_level']='duns3'\n",
    "temp['dunsid']=temp['dunsid'].astype(int)\n",
    "temp.drop_duplicates(subset=['dunsid'],inplace=True)\n",
    "#only take the ones who are not already in the dataframe\n",
    "temp=temp.loc[temp['dunsid'].isin(referencedata['dunsid'])==False]\n",
    "print(temp.shape[0])\n",
    "referencedata=pd.concat([referencedata,temp]).copy()\n",
    "\n",
    "#duns4\n",
    "temp=df[np.intersect1d(list(duns4_coldict.keys()),df.columns)].copy()\n",
    "print('missing cols 4:',[c for c in duns4_coldict.keys() if not c in df.columns])\n",
    "temp.rename(columns=duns4_coldict,inplace=True)\n",
    "temp['source_level']='duns4'\n",
    "temp['dunsid']=temp['dunsid'].astype(int)\n",
    "temp.drop_duplicates(subset=['dunsid'],inplace=True)\n",
    "#only take the ones who are not already in the dataframe\n",
    "temp=temp.loc[temp['dunsid'].isin(referencedata['dunsid'])==False]\n",
    "print(temp.shape[0])\n",
    "referencedata=pd.concat([referencedata,temp]).copy()\n",
    "\n",
    "#duns5\n",
    "temp=df[np.intersect1d(list(duns5_coldict.keys()),df.columns)].copy()\n",
    "print('missing cols 5:',[c for c in duns5_coldict.keys() if not c in df.columns])\n",
    "temp.rename(columns=duns5_coldict,inplace=True)\n",
    "temp['source_level']='duns5'\n",
    "temp['dunsid']=temp['dunsid'].astype(int)\n",
    "temp.drop_duplicates(subset=['dunsid'],inplace=True)\n",
    "#only take the ones who are not already in the dataframe\n",
    "temp=temp.loc[temp['dunsid'].isin(referencedata['dunsid'])==False]\n",
    "print(temp.shape[0])\n",
    "\n",
    "\n",
    "referencedata=pd.concat([referencedata,temp]).copy()\n",
    "print(referencedata.shape[0])"
   ]
  },
  {
   "cell_type": "code",
   "execution_count": 111,
   "metadata": {
    "collapsed": false
   },
   "outputs": [],
   "source": [
    "#re-order columns\n",
    "referencedata=referencedata[['dunsid','companyname','countrycode','countryname','street','city','postalcode','registerid','source_level']]"
   ]
  },
  {
   "cell_type": "code",
   "execution_count": 112,
   "metadata": {
    "collapsed": false
   },
   "outputs": [],
   "source": [
    "del temp\n",
    "del duns1_coldict, duns3_coldict, duns4_coldict,duns5_coldict"
   ]
  },
  {
   "cell_type": "code",
   "execution_count": 113,
   "metadata": {
    "collapsed": false
   },
   "outputs": [],
   "source": [
    "countriesdict=pd.read_excel(filepath+'dunscountries.xlsx')\n",
    "countriesdict=countriesdict.set_index('countryname')['countrycode']\n",
    "countriesdict['NAMIBIA']='NA'"
   ]
  },
  {
   "cell_type": "code",
   "execution_count": 114,
   "metadata": {
    "collapsed": false
   },
   "outputs": [],
   "source": [
    "referencedata.loc[referencedata['countrycode'].isnull(),'countrycode']=referencedata.loc[\n",
    "    referencedata['countrycode'].isnull(),'countryname'].replace(countriesdict)"
   ]
  },
  {
   "cell_type": "code",
   "execution_count": 115,
   "metadata": {
    "collapsed": false
   },
   "outputs": [],
   "source": [
    "countriesdict=countriesdict.reset_index(drop=False)\n",
    "countriesdict=countriesdict.set_index('countrycode')['countryname']\n",
    "referencedata.loc[referencedata['countryname'].isnull(),'countryname']=referencedata.loc[\n",
    "    referencedata['countryname'].isnull(),'countrycode'].replace(countriesdict)"
   ]
  },
  {
   "cell_type": "code",
   "execution_count": 116,
   "metadata": {
    "collapsed": false
   },
   "outputs": [
    {
     "data": {
      "text/plain": [
       "dunsid               0\n",
       "companyname          0\n",
       "countrycode          0\n",
       "countryname          0\n",
       "street            1575\n",
       "city               228\n",
       "postalcode      233269\n",
       "registerid       59911\n",
       "source_level         0\n",
       "dtype: int64"
      ]
     },
     "execution_count": 116,
     "metadata": {},
     "output_type": "execute_result"
    }
   ],
   "source": [
    "referencedata.isnull().sum()"
   ]
  },
  {
   "cell_type": "code",
   "execution_count": 117,
   "metadata": {
    "collapsed": true
   },
   "outputs": [],
   "source": [
    "referencedata.set_index('dunsid',inplace=True)\n",
    "referencedata.to_csv('allduns_information_nohierarchy',encoding='utf-8',sep='|')"
   ]
  },
  {
   "cell_type": "markdown",
   "metadata": {
    "collapsed": true
   },
   "source": [
    "# Re-create the parent information"
   ]
  },
  {
   "cell_type": "markdown",
   "metadata": {},
   "source": [
    "### Select only the hierarchical columns"
   ]
  },
  {
   "cell_type": "code",
   "execution_count": 118,
   "metadata": {
    "collapsed": false
   },
   "outputs": [],
   "source": [
    "dunscols=['dunsnumber_01','dunsnumber_03','dunsnumber_04','dunsnumber_05']\n",
    "fat=df[dunscols].copy()\n",
    "for c in dunscols:\n",
    "    fat[c]=fat[c].astype(int)"
   ]
  },
  {
   "cell_type": "code",
   "execution_count": 119,
   "metadata": {
    "collapsed": false
   },
   "outputs": [],
   "source": [
    "fat['countrycode_01']=fat['dunsnumber_01'].apply(lambda r:referencedata.loc[r,'countrycode'])\n",
    "fat['countrycode_03']=fat['dunsnumber_03'].apply(lambda r:referencedata.loc[r,'countrycode'])\n",
    "fat['countrycode_04']=fat['dunsnumber_04'].apply(lambda r:referencedata.loc[r,'countrycode'])\n",
    "fat['countrycode_05']=fat['dunsnumber_05'].apply(lambda r:referencedata.loc[r,'countrycode'])"
   ]
  },
  {
   "cell_type": "markdown",
   "metadata": {},
   "source": [
    "### Fill in the blanks"
   ]
  },
  {
   "cell_type": "code",
   "execution_count": 120,
   "metadata": {
    "collapsed": false
   },
   "outputs": [],
   "source": [
    "# Case duns3 is empty: fill with duns1\n",
    "fat.loc[fat['dunsnumber_03'].isnull(),'dunsnumber_03']=fat.loc[fat['dunsnumber_03'].isnull(),'dunsnumber_01']"
   ]
  },
  {
   "cell_type": "code",
   "execution_count": 121,
   "metadata": {
    "collapsed": false
   },
   "outputs": [
    {
     "data": {
      "text/plain": [
       "dunsnumber_01     0\n",
       "dunsnumber_03     0\n",
       "dunsnumber_04     0\n",
       "dunsnumber_05     0\n",
       "countrycode_01    0\n",
       "countrycode_03    0\n",
       "countrycode_04    0\n",
       "countrycode_05    0\n",
       "dtype: int64"
      ]
     },
     "execution_count": 121,
     "metadata": {},
     "output_type": "execute_result"
    }
   ],
   "source": [
    "fat.isnull().sum()"
   ]
  },
  {
   "cell_type": "markdown",
   "metadata": {},
   "source": [
    "### Hierarchy: duns1\n",
    "take 1 to 3 relation"
   ]
  },
  {
   "cell_type": "code",
   "execution_count": 122,
   "metadata": {
    "collapsed": false
   },
   "outputs": [],
   "source": [
    "parentdata=pd.DataFrame(columns=['dunsid','parentdunsid','source_relation'])\n",
    "x=df[['dunsnumber_01','dunsnumber_03']].copy().rename(columns={\n",
    "        'dunsnumber_01':'dunsid','dunsnumber_03':'parentdunsid'\n",
    "    })\n",
    "x['source_relation']='DnB original'\n",
    "parentdata=pd.concat([parentdata,x]).copy()"
   ]
  },
  {
   "cell_type": "markdown",
   "metadata": {},
   "source": [
    "### Hierarchy: duns5\n",
    "take 5 to self relation"
   ]
  },
  {
   "cell_type": "code",
   "execution_count": 123,
   "metadata": {
    "collapsed": false
   },
   "outputs": [],
   "source": [
    "x=fat[['dunsnumber_05']].copy().rename(columns={\n",
    "        'dunsnumber_05':'dunsid'\n",
    "    })\n",
    "x.drop_duplicates(subset=['dunsid'],inplace=True)\n",
    "x=x.loc[x['dunsid'].isin(parentdata['dunsid'])==False]\n",
    "x['parentdunsid']=x['dunsid']\n",
    "x['source_relation']='DnB original'\n",
    "parentdata=pd.concat([parentdata,x]).copy()"
   ]
  },
  {
   "cell_type": "markdown",
   "metadata": {},
   "source": [
    "### Hiearchy: duns3\n",
    "- if duns3 not already mapped in parentdata\n",
    "- if duns3 and duns 4 are the same country\n",
    "- then duns3 is ChildOf duns4"
   ]
  },
  {
   "cell_type": "code",
   "execution_count": 124,
   "metadata": {
    "collapsed": false
   },
   "outputs": [],
   "source": [
    "unknown3s=fat.loc[fat['dunsnumber_03'].isin(parentdata['dunsid'])==False,'dunsnumber_03'].unique()\n",
    "x=fat.loc[(fat['dunsnumber_03'].isin(unknown3s)) & (fat['countrycode_04']==fat['countrycode_03']),\n",
    "         ['dunsnumber_03','dunsnumber_04']].copy().rename(columns={\n",
    "        'dunsnumber_03':'dunsid','dunsnumber_04':'parentdunsid'\n",
    "    }).drop_duplicates()\n",
    "x['source_relation']='DnB calc'\n",
    "parentdata=pd.concat([parentdata,x]).copy()"
   ]
  },
  {
   "cell_type": "markdown",
   "metadata": {},
   "source": [
    "- if duns3 not already mapped in parentdata\n",
    "- if duns3 and duns4 are of different country\n",
    "- if duns4 is duns1\n",
    "- duns3 is child of duns5"
   ]
  },
  {
   "cell_type": "code",
   "execution_count": 125,
   "metadata": {
    "collapsed": false
   },
   "outputs": [],
   "source": [
    "unknown3s=fat.loc[fat['dunsnumber_03'].isin(parentdata['dunsid'])==False,'dunsnumber_03'].unique()\n",
    "x=fat.loc[(fat['dunsnumber_03'].isin(unknown3s)) & (fat['dunsnumber_04']==fat['dunsnumber_01']),\n",
    "         ['dunsnumber_03','dunsnumber_05']]\n",
    "#y = x['dunsnumber_03'].value_counts()\n",
    "#unique3s=y.loc[y==1].index\n",
    "#x=x.loc[x['dunsnumber_03'].isin(unique3s)]\n",
    "x=x.copy().rename(columns={\n",
    "        'dunsnumber_03':'dunsid','dunsnumber_05':'parentdunsid'\n",
    "    }).drop_duplicates()\n",
    "x['source_relation']='DnB calc'\n",
    "parentdata=pd.concat([parentdata,x]).copy()"
   ]
  },
  {
   "cell_type": "markdown",
   "metadata": {},
   "source": [
    "- if duns3 not already mapped in parentdata\n",
    "- if duns3 and duns4 are of different country\n",
    "- duns3 is child of duns4"
   ]
  },
  {
   "cell_type": "code",
   "execution_count": 126,
   "metadata": {
    "collapsed": true
   },
   "outputs": [],
   "source": [
    "unknown3s=fat.loc[fat['dunsnumber_03'].isin(parentdata['dunsid'])==False,'dunsnumber_03'].unique()\n",
    "x=fat.loc[(fat['dunsnumber_03'].isin(unknown3s)),\n",
    "         ['dunsnumber_03','dunsnumber_04']]\n",
    "#y = x['dunsnumber_03'].value_counts()\n",
    "#unique3s=y.loc[y==1].index\n",
    "#x=x.loc[x['dunsnumber_03'].isin(unique3s)]\n",
    "x=x.copy().rename(columns={\n",
    "        'dunsnumber_03':'dunsid','dunsnumber_04':'parentdunsid'\n",
    "    }).drop_duplicates()\n",
    "x['source_relation']='DnB calc'\n",
    "parentdata=pd.concat([parentdata,x]).copy()"
   ]
  },
  {
   "cell_type": "markdown",
   "metadata": {},
   "source": [
    "### Hierarchy: duns4\n",
    "- the rest of the duns4 can be safely mapped to a duns5"
   ]
  },
  {
   "cell_type": "code",
   "execution_count": 127,
   "metadata": {
    "collapsed": false
   },
   "outputs": [],
   "source": [
    "unknown4s=fat.loc[fat['dunsnumber_04'].isin(parentdata['dunsid'])==False,'dunsnumber_04'].unique()\n",
    "x=fat.loc[fat['dunsnumber_04'].isin(unknown4s),['dunsnumber_04','dunsnumber_05']]\n",
    "x=x.copy().rename(columns={\n",
    "        'dunsnumber_04':'dunsid','dunsnumber_05':'parentdunsid'\n",
    "    }).drop_duplicates()\n",
    "x['source_relation']='DnB calc'\n",
    "parentdata=pd.concat([parentdata,x]).copy()"
   ]
  },
  {
   "cell_type": "markdown",
   "metadata": {},
   "source": [
    "## Some Counting"
   ]
  },
  {
   "cell_type": "code",
   "execution_count": 128,
   "metadata": {
    "collapsed": false
   },
   "outputs": [
    {
     "name": "stdout",
     "output_type": "stream",
     "text": [
      "0\n",
      "0\n",
      "0\n"
     ]
    }
   ],
   "source": [
    "unknown3s=fat.loc[fat['dunsnumber_03'].isin(parentdata['dunsid'])==False,'dunsnumber_03'].unique()\n",
    "print(len(unknown3s))\n",
    "unknown4s =fat.loc[(fat['dunsnumber_04'].isin(parentdata['dunsid'])==False) & (\n",
    "    fat['dunsnumber_04']!=fat['dunsnumber_01']) ,\n",
    "                  'dunsnumber_04'].unique()\n",
    "print(len(unknown4s))\n",
    "unknowns=list(set(list(unknown4s)+list(unknown3s)))\n",
    "print(len(unknowns))"
   ]
  },
  {
   "cell_type": "code",
   "execution_count": 129,
   "metadata": {
    "collapsed": false
   },
   "outputs": [
    {
     "name": "stdout",
     "output_type": "stream",
     "text": [
      "(238756, 3)\n"
     ]
    }
   ],
   "source": [
    "print(parentdata.shape)"
   ]
  },
  {
   "cell_type": "code",
   "execution_count": 142,
   "metadata": {
    "collapsed": false
   },
   "outputs": [],
   "source": [
    "parentdata['isglobalroot']=(parentdata['dunsid']==parentdata['parentdunsid'])\n",
    "for c in ['dunsid','parentdunsid']:\n",
    "    parentdata[c]=parentdata[c].astype(int)\n",
    "parentdata.set_index('dunsid',inplace=True)"
   ]
  },
  {
   "cell_type": "markdown",
   "metadata": {},
   "source": [
    "### Merge the two files"
   ]
  },
  {
   "cell_type": "code",
   "execution_count": 143,
   "metadata": {
    "collapsed": false
   },
   "outputs": [
    {
     "name": "stdout",
     "output_type": "stream",
     "text": [
      "(238756, 11)\n"
     ]
    }
   ],
   "source": [
    "finaldata=referencedata.join(parentdata)\n",
    "finaldata.to_csv('duns_denormalized.csv',index=True,sep='|',encoding='utf-8')\n",
    "print(finaldata.shape)"
   ]
  },
  {
   "cell_type": "code",
   "execution_count": 146,
   "metadata": {
    "collapsed": false
   },
   "outputs": [
    {
     "data": {
      "text/plain": [
       "companyname             0\n",
       "countrycode             0\n",
       "countryname             0\n",
       "street               1575\n",
       "city                  228\n",
       "postalcode         233269\n",
       "registerid          59911\n",
       "source_level            0\n",
       "parentdunsid            0\n",
       "source_relation         0\n",
       "isglobalroot            0\n",
       "dtype: int64"
      ]
     },
     "execution_count": 146,
     "metadata": {},
     "output_type": "execute_result"
    }
   ],
   "source": [
    "finaldata.isnull().sum()"
   ]
  }
 ],
 "metadata": {
  "kernelspec": {
   "display_name": "Python 3",
   "language": "python",
   "name": "python3"
  },
  "language_info": {
   "codemirror_mode": {
    "name": "ipython",
    "version": 3
   },
   "file_extension": ".py",
   "mimetype": "text/x-python",
   "name": "python",
   "nbconvert_exporter": "python",
   "pygments_lexer": "ipython3",
   "version": "3.6.1"
  }
 },
 "nbformat": 4,
 "nbformat_minor": 2
}
