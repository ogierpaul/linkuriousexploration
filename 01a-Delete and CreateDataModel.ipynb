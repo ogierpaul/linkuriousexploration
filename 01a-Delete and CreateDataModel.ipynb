{
 "cells": [
  {
   "cell_type": "markdown",
   "metadata": {},
   "source": [
    "# Create Data Model"
   ]
  },
  {
   "cell_type": "markdown",
   "metadata": {},
   "source": [
    "This notebook is only to prepare the Neo4j database for uploading the data:\n",
    "- it deletes all existing nodes and labels (reset of the database)\n",
    "- it create indexes and unique id constraints for both Duns and Erp Labels\n",
    "- Connection to Neo4j is a prerequisite"
   ]
  },
  {
   "cell_type": "markdown",
   "metadata": {},
   "source": [
    "### Connect to graph"
   ]
  },
  {
   "cell_type": "code",
   "execution_count": 1,
   "metadata": {
    "collapsed": true
   },
   "outputs": [],
   "source": [
    "import py2neo\n",
    "graph = py2neo.Graph(user='neo4j',password='5R8Fx2')"
   ]
  },
  {
   "cell_type": "markdown",
   "metadata": {},
   "source": [
    "### Detach Delete"
   ]
  },
  {
   "cell_type": "code",
   "execution_count": 2,
   "metadata": {},
   "outputs": [
    {
     "name": "stdout",
     "output_type": "stream",
     "text": [
      "{'constraints_added': 0, 'constraints_removed': 0, 'indexes_added': 0, 'indexes_removed': 0, 'labels_added': 0, 'labels_removed': 0, 'nodes_created': 0, 'nodes_deleted': 326460, 'properties_set': 0, 'relationships_deleted': 156316, 'relationships_created': 0, 'contains_updates': True}\n"
     ]
    }
   ],
   "source": [
    "a=graph.run('''\n",
    "Match (n)\n",
    "Detach Delete (n);\n",
    "''')\n",
    "print(a.stats())"
   ]
  },
  {
   "cell_type": "markdown",
   "metadata": {},
   "source": [
    "### Create Unique Index on DunsId"
   ]
  },
  {
   "cell_type": "code",
   "execution_count": 3,
   "metadata": {
    "collapsed": true
   },
   "outputs": [],
   "source": [
    "a=graph.run('CREATE CONSTRAINT ON (c:DunsID) ASSERT c.duns IS UNIQUE;')\n",
    "a=graph.run('CREATE CONSTRAINT ON (c:ErpID) ASSERT c.erpid IS UNIQUE;')\n"
   ]
  },
  {
   "cell_type": "markdown",
   "metadata": {},
   "source": [
    "### Create Index on Company Name"
   ]
  },
  {
   "cell_type": "code",
   "execution_count": 4,
   "metadata": {
    "collapsed": true
   },
   "outputs": [],
   "source": [
    "a=graph.run('CREATE INDEX ON :DunsID(name);')\n",
    "a=graph.run('CREATE INDEX ON :ErpID(erp_name);')\n",
    "a=graph.run('CREATE INDEX ON :ErpID(duns);')"
   ]
  },
  {
   "cell_type": "code",
   "execution_count": null,
   "metadata": {
    "collapsed": true
   },
   "outputs": [],
   "source": []
  }
 ],
 "metadata": {
  "kernelspec": {
   "display_name": "Python 3",
   "language": "python",
   "name": "python3"
  },
  "language_info": {
   "codemirror_mode": {
    "name": "ipython",
    "version": 3
   },
   "file_extension": ".py",
   "mimetype": "text/x-python",
   "name": "python",
   "nbconvert_exporter": "python",
   "pygments_lexer": "ipython3",
   "version": "3.6.3"
  }
 },
 "nbformat": 4,
 "nbformat_minor": 2
}
