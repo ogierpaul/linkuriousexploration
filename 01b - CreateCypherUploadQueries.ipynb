{
 "cells": [
  {
   "cell_type": "markdown",
   "metadata": {},
   "source": [
    "# Data quality for linkurious"
   ]
  },
  {
   "cell_type": "code",
   "execution_count": 11,
   "metadata": {
    "collapsed": true
   },
   "outputs": [],
   "source": [
    "sourcepath = 'C:/_PYDAI/1-Data/'\n",
    "neo4jimportpath='C:/_PYDAI/2-Neo4j_db/duns.graphdb/import/'\n",
    "os.chdir(sourcepath)\n",
    "outpath='C:/_PYDAI/8-PythonProjects/uploadinneo4j/'"
   ]
  },
  {
   "cell_type": "code",
   "execution_count": 12,
   "metadata": {
    "collapsed": true
   },
   "outputs": [],
   "source": [
    "filename__duns_node='DunsID_normalized.csv'\n",
    "filename_duns_edge='DunsRelations_normalized.csv'\n",
    "filename__erp_node='ErpID_normalized.csv'\n",
    "filename_erp_edge='ErpRelations_normalized.csv'"
   ]
  },
  {
   "cell_type": "code",
   "execution_count": 13,
   "metadata": {
    "collapsed": true
   },
   "outputs": [],
   "source": [
    "script_duns_node='upload_duns_node.cql'\n",
    "script_duns_edge='upload_duns_edge.cql'\n",
    "script_erp_node='upload_erp_node.cql'\n",
    "script_erp_edge='upload_erp_edge.cql'"
   ]
  },
  {
   "cell_type": "markdown",
   "metadata": {
    "collapsed": true
   },
   "source": [
    "# Write upload neo4j queries"
   ]
  },
  {
   "cell_type": "markdown",
   "metadata": {},
   "source": [
    "# For nodes"
   ]
  },
  {
   "cell_type": "markdown",
   "metadata": {},
   "source": [
    "### Function"
   ]
  },
  {
   "cell_type": "code",
   "execution_count": 14,
   "metadata": {
    "collapsed": true
   },
   "outputs": [],
   "source": [
    "def createlineuploadnode(colname,nodename,neo4jname=None):\n",
    "    colname =str(colname).lower().lstrip().rstrip().replace(' ','')\n",
    "    if neo4jname is None:\n",
    "        neo4jname = colname\n",
    "    s=\"{0}.{1} = {2}.{3}\".format(nodename,neo4jname,'csvLine',neo4jname)\n",
    "    return s\n",
    "def createfullquery(filename,path=neo4jimportpath,labelname='DunsID',nodeid='duns'):\n",
    "    s='''\n",
    "    USING PERIODIC COMMIT 10000\n",
    "    LOAD CSV WITH HEADERS FROM 'file:///{0}' AS csvLine\n",
    "    MERGE (n:{labelname}{{ {nodeid}: csvLine.{nodeid} }})\n",
    "    SET\n",
    "    '''\n",
    "    s=s.format(filename,labelname=labelname,nodeid=nodeid)\n",
    "    mycols=pd.read_csv(path+filename,nrows=5).columns\n",
    "    for c in mycols:\n",
    "        r = createlineuploadnode(c,nodename='n')\n",
    "        r=\"\\t\"+r+\",\\n\"\n",
    "        s+=r\n",
    "    s=s.rstrip(',\\n') +';'\n",
    "    return s"
   ]
  },
  {
   "cell_type": "markdown",
   "metadata": {},
   "source": [
    "### Duns"
   ]
  },
  {
   "cell_type": "code",
   "execution_count": 15,
   "metadata": {},
   "outputs": [
    {
     "name": "stdout",
     "output_type": "stream",
     "text": [
      "\n",
      "    USING PERIODIC COMMIT 10000\n",
      "    LOAD CSV WITH HEADERS FROM 'file:///DunsID_normalized.csv' AS csvLine\n",
      "    MERGE (n:DunsID{ duns: csvLine.duns })\n",
      "    SET\n",
      "    \tn.duns = csvLine.duns,\n",
      "\tn.name = csvLine.name,\n",
      "\tn.businessname = csvLine.businessname,\n",
      "\tn.street = csvLine.street,\n",
      "\tn.city = csvLine.city,\n",
      "\tn.zip = csvLine.zip,\n",
      "\tn.county = csvLine.county,\n",
      "\tn.state = csvLine.state,\n",
      "\tn.state_abbreviation = csvLine.state_abbreviation,\n",
      "\tn.country_name = csvLine.country_name,\n",
      "\tn.country_code = csvLine.country_code,\n",
      "\tn.continent_code = csvLine.continent_code,\n",
      "\tn.commregno = csvLine.commregno,\n",
      "\tn.rank_2016 = csvLine.rank_2016,\n",
      "\tn.source_relation = csvLine.source_relation,\n",
      "\tn.dnb_dp_duns = csvLine.dnb_dp_duns,\n",
      "\tn.dnb_dp_name = csvLine.dnb_dp_name,\n",
      "\tn.dnb_dp_city = csvLine.dnb_dp_city,\n",
      "\tn.dnb_dp_countrycode = csvLine.dnb_dp_countrycode,\n",
      "\tn.dnb_du_duns = csvLine.dnb_du_duns,\n",
      "\tn.dnb_du_name = csvLine.dnb_du_name,\n",
      "\tn.dnb_du_city = csvLine.dnb_du_city,\n",
      "\tn.dnb_du_countrycode = csvLine.dnb_du_countrycode,\n",
      "\tn.dnb_gu_duns = csvLine.dnb_gu_duns,\n",
      "\tn.dnb_gu_name = csvLine.dnb_gu_name,\n",
      "\tn.dnb_gu_city = csvLine.dnb_gu_city,\n",
      "\tn.dnb_gu_countrycode = csvLine.dnb_gu_countrycode,\n",
      "\tn.dnb_out_of_bus = csvLine.dnb_out_of_bus,\n",
      "\tn.data_status = csvLine.data_status;\n"
     ]
    }
   ],
   "source": [
    "query = createfullquery(filename=filename__duns_node,path=neo4jimportpath,labelname='DunsID',nodeid='duns')\n",
    "print(query)\n",
    "myfile=open(outpath+script_duns_node,'w').close()\n",
    "print(query,file=open(outpath+script_duns_node,'a'))"
   ]
  },
  {
   "cell_type": "markdown",
   "metadata": {},
   "source": [
    "### ERP"
   ]
  },
  {
   "cell_type": "code",
   "execution_count": 16,
   "metadata": {},
   "outputs": [
    {
     "name": "stdout",
     "output_type": "stream",
     "text": [
      "\n",
      "    USING PERIODIC COMMIT 10000\n",
      "    LOAD CSV WITH HEADERS FROM 'file:///ErpID_normalized.csv' AS csvLine\n",
      "    MERGE (n:ErpID{ erpid: csvLine.erpid })\n",
      "    SET\n",
      "    \tn.erp_system_id = csvLine.erp_system_id,\n",
      "\tn.erp_location_id = csvLine.erp_location_id,\n",
      "\tn.erp_supplier_id = csvLine.erp_supplier_id,\n",
      "\tn.erp_name = csvLine.erp_name,\n",
      "\tn.erp_street = csvLine.erp_street,\n",
      "\tn.erp_zip = csvLine.erp_zip,\n",
      "\tn.erp_city = csvLine.erp_city,\n",
      "\tn.erp_country_name = csvLine.erp_country_name,\n",
      "\tn.erp_tax_no = csvLine.erp_tax_no,\n",
      "\tn.erp_commregno = csvLine.erp_commregno,\n",
      "\tn.turnover2016 = csvLine.turnover2016,\n",
      "\tn.ordervolume2016 = csvLine.ordervolume2016,\n",
      "\tn.turnover2017 = csvLine.turnover2017,\n",
      "\tn.ordervolume2017 = csvLine.ordervolume2017,\n",
      "\tn.data_status = csvLine.data_status,\n",
      "\tn.erpid = csvLine.erpid;\n"
     ]
    }
   ],
   "source": [
    "query = createfullquery(filename=filename__erp_node,path=neo4jimportpath,labelname='ErpID',nodeid='erpid')\n",
    "print(query)\n",
    "myfile=open(outpath+script_erp_node,'w').close()\n",
    "print(query,file=open(outpath+script_erp_node,'a'))"
   ]
  },
  {
   "cell_type": "markdown",
   "metadata": {},
   "source": [
    "## Relations"
   ]
  },
  {
   "cell_type": "code",
   "execution_count": 17,
   "metadata": {},
   "outputs": [
    {
     "name": "stdout",
     "output_type": "stream",
     "text": [
      "\n",
      "MATCH (a:DunsID),(b:DunsID)\n",
      "WHERE b.dunsid = a.parentdunsid and not a.parentdunsid=a.dunsid\n",
      "MERGE (a)-[r:isChildOf]->(b)\n",
      "WITH a,r\n",
      "SET r.source_relation = a.source_relation\n",
      "\n"
     ]
    }
   ],
   "source": [
    "s='''\n",
    "MATCH (a:DunsID),(b:DunsID)\n",
    "WHERE b.dunsid = a.parentdunsid and not a.parentdunsid=a.dunsid\n",
    "MERGE (a)-[r:isChildOf]->(b)\n",
    "WITH a,r\n",
    "SET r.source_relation = a.source_relation\n",
    "'''\n",
    "print(s)"
   ]
  },
  {
   "cell_type": "code",
   "execution_count": 18,
   "metadata": {
    "collapsed": true
   },
   "outputs": [],
   "source": [
    "def createedgequery(filename,path=neo4jimportpath,filerelation='isChildOf',sourcelabel='DunsID',targetlabel='DunsID',\n",
    "                    neo4jsourceid='duns',neo4jtargetid='duns'):\n",
    "    df=pd.read_csv(path+filename,nrows=5)\n",
    "    mycols=df.columns\n",
    "    filesourceid=mycols[0]\n",
    "    filetargetid=mycols[2]\n",
    "    p='''USING PERIODIC COMMIT 10000\n",
    "    LOAD CSV WITH HEADERS FROM 'file:///{filename}' AS csvLine\n",
    "    MERGE (a:{sourcelabel}{{ {neo4jsourceid}: csvLine.{filesourceid} }})-[r:csvLine.{filerelation}]->(b:{targetlabel}{{ {neo4jtargetid}: csvLine.{filetargetid} }})\n",
    "    WITH r\n",
    "    SET\n",
    "    '''\n",
    "    p=p.format(filename=filename,\n",
    "        sourcelabel=sourcelabel,neo4jsourceid=neo4jsourceid,\n",
    "             filesourceid=filesourceid,filerelation='filerelation',\n",
    "             targetlabel=targetlabel,neo4jtargetid=neo4jtargetid,filetargetid=filetargetid)\n",
    "    for c in mycols:\n",
    "        r = createlineuploadnode(c,nodename='r')\n",
    "        r=\"\\t\"+r+\",\\n\"\n",
    "        p+=r\n",
    "    p=p.rstrip(',\\n') +';'\n",
    "    return p"
   ]
  },
  {
   "cell_type": "markdown",
   "metadata": {},
   "source": [
    "### Duns"
   ]
  },
  {
   "cell_type": "code",
   "execution_count": 19,
   "metadata": {},
   "outputs": [
    {
     "name": "stdout",
     "output_type": "stream",
     "text": [
      "USING PERIODIC COMMIT 10000\n",
      "    LOAD CSV WITH HEADERS FROM 'file:///DunsRelations_normalized.csv' AS csvLine\n",
      "    MERGE (a:DunsID{ duns: csvLine.source_id })-[r:csvLine.filerelation]->(b:DunsID{ duns: csvLine.target_id })\n",
      "    WITH r\n",
      "    SET\n",
      "    \tr.source_id = csvLine.source_id,\n",
      "\tr.edge_label = csvLine.edge_label,\n",
      "\tr.target_id = csvLine.target_id,\n",
      "\tr.levelofsource = csvLine.levelofsource,\n",
      "\tr.source_relation = csvLine.source_relation,\n",
      "\tr.changed_by = csvLine.changed_by,\n",
      "\tr.changed_at = csvLine.changed_at;\n"
     ]
    }
   ],
   "source": [
    "query = createedgequery(filename=filename_duns_edge,\n",
    "                        path=neo4jimportpath,\n",
    "                       sourcelabel='DunsID',\n",
    "                       neo4jsourceid='duns',\n",
    "                        filerelation='isChildOf',\n",
    "                       targetlabel='DunsID',\n",
    "                       neo4jtargetid='duns')\n",
    "print(query)\n",
    "myfile=open(outpath+script_duns_edge,'w').close()\n",
    "print(query,file=open(outpath+script_duns_edge,'a'))"
   ]
  },
  {
   "cell_type": "markdown",
   "metadata": {
    "collapsed": true
   },
   "source": [
    "### Erp"
   ]
  },
  {
   "cell_type": "code",
   "execution_count": 20,
   "metadata": {},
   "outputs": [
    {
     "name": "stdout",
     "output_type": "stream",
     "text": [
      "USING PERIODIC COMMIT 10000\n",
      "    LOAD CSV WITH HEADERS FROM 'file:///ErpRelations_normalized.csv' AS csvLine\n",
      "    MERGE (a:ErpID{ erpid: csvLine.erp_system_id })-[r:csvLine.filerelation]->(b:DunsID{ duns: csvLine.erp_supplier_id })\n",
      "    WITH r\n",
      "    SET\n",
      "    \tr.erp_system_id = csvLine.erp_system_id,\n",
      "\tr.erp_location_id = csvLine.erp_location_id,\n",
      "\tr.erp_supplier_id = csvLine.erp_supplier_id,\n",
      "\tr.edge_label = csvLine.edge_label,\n",
      "\tr.source_relation = csvLine.source_relation,\n",
      "\tr.changed_by = csvLine.changed_by,\n",
      "\tr.changed_at = csvLine.changed_at,\n",
      "\tr.target_dunsid = csvLine.target_dunsid,\n",
      "\tr.erpid = csvLine.erpid;\n"
     ]
    }
   ],
   "source": [
    "query = createedgequery(filename=filename_erp_edge,\n",
    "                        path=neo4jimportpath,\n",
    "                       sourcelabel='ErpID',\n",
    "                       neo4jsourceid='erpid',\n",
    "                        filerelation='isChildOf',\n",
    "                       targetlabel='DunsID',\n",
    "                       neo4jtargetid='duns')\n",
    "print(query)\n",
    "myfile=open(outpath+script_erp_edge,'w').close()\n",
    "print(query,file=open(outpath+script_erp_edge,'a'))"
   ]
  }
 ],
 "metadata": {
  "kernelspec": {
   "display_name": "Python 3",
   "language": "python",
   "name": "python3"
  },
  "language_info": {
   "codemirror_mode": {
    "name": "ipython",
    "version": 3
   },
   "file_extension": ".py",
   "mimetype": "text/x-python",
   "name": "python",
   "nbconvert_exporter": "python",
   "pygments_lexer": "ipython3",
   "version": "3.6.3"
  }
 },
 "nbformat": 4,
 "nbformat_minor": 2
}
