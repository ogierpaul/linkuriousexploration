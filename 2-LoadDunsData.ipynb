{
 "cells": [
  {
   "cell_type": "markdown",
   "metadata": {},
   "source": [
    "# Load Duns Data"
   ]
  },
  {
   "cell_type": "markdown",
   "metadata": {},
   "source": [
    "Find and format File"
   ]
  },
  {
   "cell_type": "code",
   "execution_count": 1,
   "metadata": {
    "collapsed": false
   },
   "outputs": [
    {
     "name": "stderr",
     "output_type": "stream",
     "text": [
      "/Users/paulogier/anaconda/lib/python3.6/site-packages/IPython/core/interactiveshell.py:2728: DtypeWarning: Columns (11) have mixed types. Specify dtype option on import or set low_memory=False.\n",
      "  interactivity=interactivity, compiler=compiler, result=result)\n"
     ]
    }
   ],
   "source": [
    "dunsdata=pd.read_csv('../1-AD/3-DUNS/duns_denormalized.csv',sep='|',encoding='utf-8',\n",
    "                    dtype={\n",
    "                        'companyname':str,\n",
    "                          'countrycode':str,\n",
    "                          'countryname':str,\n",
    "                           'street':str,\n",
    "                           'city':str,\n",
    "                          'postalcode':str,\n",
    "                          'registerid':str,\n",
    "                          'source_level':str,\n",
    "                            'source_relation':str,\n",
    "                          'isglobalroot':bool})"
   ]
  },
  {
   "cell_type": "markdown",
   "metadata": {
    "collapsed": false
   },
   "source": [
    "dunsdata=pd.read_excel('testexcel.xlsx')"
   ]
  },
  {
   "cell_type": "code",
   "execution_count": 2,
   "metadata": {
    "collapsed": false
   },
   "outputs": [],
   "source": [
    "dunsdata.dropna(subset=['parentdunsid'],inplace=True)\n",
    "dunsdata=dunsdata.loc[dunsdata['parentdunsid'].isin(dunsdata['dunsid'])]\n",
    "dunsdata.fillna('notavailable',inplace=True)"
   ]
  },
  {
   "cell_type": "code",
   "execution_count": 3,
   "metadata": {
    "collapsed": true
   },
   "outputs": [],
   "source": [
    "import neatmartinet as nm\n",
    "for c in ['dunsid','parentdunsid']:\n",
    "    dunsdata[c]=dunsdata[c].apply(lambda r:nm.convert_int_to_str(n=r,fillwithzeroes=9))\n",
    "print(nm.checkuniqueid(dunsdata['dunsid']))"
   ]
  },
  {
   "cell_type": "code",
   "execution_count": 9,
   "metadata": {
    "collapsed": false
   },
   "outputs": [],
   "source": [
    "dunsdata.to_csv('../../Neo4j/sourcingreport.graphdb/import/dunsdata_commasep.csv',encoding='utf-8',sep=',',index=False)"
   ]
  },
  {
   "cell_type": "markdown",
   "metadata": {},
   "source": [
    "# Load in neo4j"
   ]
  },
  {
   "cell_type": "markdown",
   "metadata": {},
   "source": [
    "### Connect to graph"
   ]
  },
  {
   "cell_type": "code",
   "execution_count": 10,
   "metadata": {
    "collapsed": true
   },
   "outputs": [],
   "source": [
    "import py2neo\n",
    "graph = py2neo.Graph(user='neo4j',password='admin')"
   ]
  },
  {
   "cell_type": "markdown",
   "metadata": {},
   "source": [
    "#### Load Duns"
   ]
  },
  {
   "cell_type": "code",
   "execution_count": 11,
   "metadata": {
    "collapsed": false
   },
   "outputs": [
    {
     "name": "stdout",
     "output_type": "stream",
     "text": [
      "{'constraints_added': 0, 'constraints_removed': 0, 'indexes_added': 0, 'indexes_removed': 0, 'labels_added': 238405, 'labels_removed': 0, 'nodes_created': 238405, 'nodes_deleted': 0, 'properties_set': 3576075, 'relationships_deleted': 0, 'relationships_created': 0, 'contains_updates': True}\n"
     ]
    }
   ],
   "source": [
    "query_uploadduns='''\n",
    "USING PERIODIC COMMIT 10000\n",
    "  LOAD CSV WITH HEADERS FROM 'file:///dunsdata_commasep.csv' AS row\n",
    "    MERGE (c:DunsID{dunsid: row.dunsid})\n",
    "    ON CREATE SET\n",
    "        c.dunsid=row.dunsid,\n",
    "        c.companyname=row.companyname,\n",
    "        c.countrycode=row.countrycode,\n",
    "        c.countryname=row.countryname,\n",
    "        c.street=row.street,\n",
    "        c.city=row.city,\n",
    "        c.postalcode=row.postalcode,\n",
    "        c.registerid=row.registerid,\n",
    "        c.source_level=row.source_level,\n",
    "        c.parentdunsid=row.parentdunsid,\n",
    "        c.source_relation=row.source_relation,\n",
    "        c.isglobalroot=row.isglobalroot,\n",
    "        c.creationdate=timestamp(),\n",
    "        c.lastseen=timestamp()\n",
    "    ON MATCH SET\n",
    "        c.lastseen=timestamp();\n",
    "'''\n",
    "a=graph.run(query_uploadduns)\n",
    "print(a.stats())"
   ]
  },
  {
   "cell_type": "markdown",
   "metadata": {},
   "source": [
    "#### Create Relations"
   ]
  },
  {
   "cell_type": "code",
   "execution_count": 12,
   "metadata": {
    "collapsed": false
   },
   "outputs": [
    {
     "name": "stdout",
     "output_type": "stream",
     "text": [
      "{'constraints_added': 0, 'constraints_removed': 0, 'indexes_added': 0, 'indexes_removed': 0, 'labels_added': 0, 'labels_removed': 0, 'nodes_created': 0, 'nodes_deleted': 0, 'properties_set': 0, 'relationships_deleted': 0, 'relationships_created': 67625, 'contains_updates': True}\n"
     ]
    }
   ],
   "source": [
    "query_dunsischildof='''\n",
    "MATCH (a:DunsID),(b:DunsID)\n",
    "WHERE b.dunsid = a.parentdunsid and not a.parentdunsid=a.dunsid\n",
    "MERGE (a)-[:isChildOf]->(b)\n",
    "'''\n",
    "a=graph.run(query_dunsischildof)\n",
    "print(a.stats())"
   ]
  },
  {
   "cell_type": "markdown",
   "metadata": {},
   "source": [
    "# TO DO : \n",
    "- Create Country relations\n",
    "- Write update queries for global root\n",
    "- Write update queries for country root\n",
    "- Wrie RegisterId relation"
   ]
  },
  {
   "cell_type": "markdown",
   "metadata": {},
   "source": [
    "# Close"
   ]
  },
  {
   "cell_type": "code",
   "execution_count": null,
   "metadata": {
    "collapsed": true
   },
   "outputs": [],
   "source": []
  }
 ],
 "metadata": {
  "kernelspec": {
   "display_name": "Python 3",
   "language": "python",
   "name": "python3"
  },
  "language_info": {
   "codemirror_mode": {
    "name": "ipython",
    "version": 3
   },
   "file_extension": ".py",
   "mimetype": "text/x-python",
   "name": "python",
   "nbconvert_exporter": "python",
   "pygments_lexer": "ipython3",
   "version": "3.6.1"
  }
 },
 "nbformat": 4,
 "nbformat_minor": 2
}
