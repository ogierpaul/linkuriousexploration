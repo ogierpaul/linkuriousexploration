{
 "cells": [
  {
   "cell_type": "markdown",
   "metadata": {},
   "source": [
    "# Run Updates"
   ]
  },
  {
   "cell_type": "markdown",
   "metadata": {},
   "source": [
    "### Connect to Graph"
   ]
  },
  {
   "cell_type": "code",
   "execution_count": 12,
   "metadata": {
    "collapsed": true
   },
   "outputs": [],
   "source": [
    "import py2neo\n",
    "graph = py2neo.Graph(user='neo4j',password='admin')"
   ]
  },
  {
   "cell_type": "markdown",
   "metadata": {},
   "source": [
    "# Global Root Update"
   ]
  },
  {
   "cell_type": "code",
   "execution_count": 13,
   "metadata": {
    "collapsed": false
   },
   "outputs": [
    {
     "data": {
      "text/plain": [
       "<py2neo.graph.Cursor at 0x11524cac8>"
      ]
     },
     "execution_count": 13,
     "metadata": {},
     "output_type": "execute_result"
    }
   ],
   "source": [
    "# Count the number of relationships\n",
    "query_attributenfathers='''\n",
    "MATCH (n:DunsID)\n",
    "OPTIONAL MATCH (n)-[r:isChildOf]->(c)\n",
    "WITH n, count(c) AS nfathers\n",
    "SET n.nfathers = nfathers\n",
    "'''\n",
    "graph.run(query_attributenfathers)\n",
    "\n",
    "#if there are no relationships then update the isglobalroot attribute\n",
    "query_attributeglobalroot='''\n",
    "MATCH (n:DunsID)\n",
    "WITH n, (CASE n.nfathers WHEN 0 THEN True Else False END) as root\n",
    "SET n.isglobalroot = root\n",
    "'''\n",
    "graph.run(query_attributeglobalroot)\n",
    "\n",
    "#Update the labels accordingly\n",
    "query_labelglobalroot='''\n",
    "MATCH (n:DunsID{isglobalroot:False})\n",
    "Remove n:GlobalRoot\n",
    "With count(n) as temp\n",
    "MATCH (m:DunsID{isglobalroot:True})\n",
    "Set m:GlobalRoot;\n",
    "'''\n",
    "graph.run(query_labelglobalroot)"
   ]
  },
  {
   "cell_type": "markdown",
   "metadata": {},
   "source": [
    "### Global Root and Direct Parent attribute update for export"
   ]
  },
  {
   "cell_type": "markdown",
   "metadata": {},
   "source": [
    "#### Duns5"
   ]
  },
  {
   "cell_type": "code",
   "execution_count": 14,
   "metadata": {
    "collapsed": false
   },
   "outputs": [
    {
     "data": {
      "text/plain": [
       "<py2neo.graph.Cursor at 0x1151cd5f8>"
      ]
     },
     "execution_count": 14,
     "metadata": {},
     "output_type": "execute_result"
    }
   ],
   "source": [
    "query_duns5='''\n",
    "MATCH (n:DunsID)-[:isChildOf*0..]->(r:GlobalRoot)\n",
    "SET n.duns5_calc=r.dunsid;\n",
    "'''\n",
    "graph.run(query_duns5)"
   ]
  },
  {
   "cell_type": "markdown",
   "metadata": {},
   "source": [
    "#### Parent Duns"
   ]
  },
  {
   "cell_type": "code",
   "execution_count": 15,
   "metadata": {
    "collapsed": false
   },
   "outputs": [
    {
     "data": {
      "text/plain": [
       "<py2neo.graph.Cursor at 0x115294e10>"
      ]
     },
     "execution_count": 15,
     "metadata": {},
     "output_type": "execute_result"
    }
   ],
   "source": [
    "query_duns3='''\n",
    "MATCH (n:DunsID{isglobalroot:False})-[:isChildOf]->(r:DunsID)\n",
    "SET n.parentdunsid=r.dunsid;\n",
    "'''\n",
    "graph.run(query_duns3)\n",
    "\n",
    "query_duns3_bis='''\n",
    "MATCH (n:GlobalRoot)\n",
    "SET n.parentdunsid=n.dunsid;'''\n",
    "graph.run(query_duns3_bis)"
   ]
  },
  {
   "cell_type": "markdown",
   "metadata": {},
   "source": [
    "# Spent"
   ]
  },
  {
   "cell_type": "markdown",
   "metadata": {},
   "source": [
    "### Per Duns Node"
   ]
  },
  {
   "cell_type": "code",
   "execution_count": 16,
   "metadata": {
    "collapsed": false
   },
   "outputs": [
    {
     "name": "stdout",
     "output_type": "stream",
     "text": [
      "{'constraints_added': 0, 'constraints_removed': 0, 'indexes_added': 0, 'indexes_removed': 0, 'labels_added': 0, 'labels_removed': 0, 'nodes_created': 0, 'nodes_deleted': 0, 'properties_set': 50, 'relationships_deleted': 0, 'relationships_created': 0, 'contains_updates': True}\n"
     ]
    }
   ],
   "source": [
    "query_nodespent='''\n",
    "MATCH(m:DunsID)\n",
    "SET m.nodespent=0\n",
    "with count(m) as temp\n",
    "MATCH (n:DunsID)<-[:hasDuns]-(s:ErpID)\n",
    "WITH n,SUM(s.spent) as erpspent\n",
    "SET n.nodespent=erpspent;\n",
    "'''\n",
    "a = graph.run(query_nodespent)\n",
    "print(a.stats())"
   ]
  },
  {
   "cell_type": "code",
   "execution_count": 17,
   "metadata": {
    "collapsed": true
   },
   "outputs": [],
   "source": [
    "### Aggregate per node"
   ]
  },
  {
   "cell_type": "code",
   "execution_count": 18,
   "metadata": {
    "collapsed": false
   },
   "outputs": [
    {
     "name": "stdout",
     "output_type": "stream",
     "text": [
      "{'constraints_added': 0, 'constraints_removed': 0, 'indexes_added': 0, 'indexes_removed': 0, 'labels_added': 0, 'labels_removed': 0, 'nodes_created': 0, 'nodes_deleted': 0, 'properties_set': 15, 'relationships_deleted': 0, 'relationships_created': 0, 'contains_updates': True}\n",
      "{'constraints_added': 0, 'constraints_removed': 0, 'indexes_added': 0, 'indexes_removed': 0, 'labels_added': 0, 'labels_removed': 0, 'nodes_created': 0, 'nodes_deleted': 0, 'properties_set': 10, 'relationships_deleted': 0, 'relationships_created': 0, 'contains_updates': True}\n"
     ]
    }
   ],
   "source": [
    "old_query='''\n",
    "MATCH (n:DunsID)<-[:isChildOf*0..]-(child:DunsID)\n",
    "WITH n,sum(child.nodespent) AS value\n",
    "SET n.aggregatespent = value\n",
    "'''\n",
    "\n",
    "query_leaves='''\n",
    "MATCH path=(r:GlobalRoot)<-[:isChildOf*0..]-(b:DunsID), (b)<-[:isChildOf]-(l:DunsID)\n",
    "WITH b, length(path) as depth, collect(l) as ls\n",
    "ORDER BY depth desc\n",
    "SET b.aggregatespent = REDUCE(acc = COALESCE(b.nodespent,0), l IN ls | acc + COALESCE(l.aggregatespent, l.nodespent, 0))\n",
    "'''\n",
    "a=graph.run(query_leaves)\n",
    "print(a.stats())\n",
    "\n",
    "query_root='''\n",
    "MATCH (n:GlobalRoot)\n",
    "OPTIONAL MATCH (n)<-[:isChildOf]-(child:DunsID)\n",
    "WITH n,sum(child.aggregatespent) AS value\n",
    "SET n.aggregatespent = value+n.nodespent\n",
    "'''\n",
    "a=graph.run(query_root)\n",
    "print(a.stats())"
   ]
  },
  {
   "cell_type": "markdown",
   "metadata": {},
   "source": []
  }
 ],
 "metadata": {
  "kernelspec": {
   "display_name": "Python 3",
   "language": "python",
   "name": "python3"
  },
  "language_info": {
   "codemirror_mode": {
    "name": "ipython",
    "version": 3
   },
   "file_extension": ".py",
   "mimetype": "text/x-python",
   "name": "python",
   "nbconvert_exporter": "python",
   "pygments_lexer": "ipython3",
   "version": "3.6.1"
  }
 },
 "nbformat": 4,
 "nbformat_minor": 2
}
