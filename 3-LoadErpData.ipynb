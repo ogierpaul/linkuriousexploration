{
 "cells": [
  {
   "cell_type": "markdown",
   "metadata": {},
   "source": [
    "# Load Erp Data"
   ]
  },
  {
   "cell_type": "markdown",
   "metadata": {},
   "source": [
    "Find and format File"
   ]
  },
  {
   "cell_type": "markdown",
   "metadata": {},
   "source": [
    "erpdata=pd.read_csv('../1-AD/3-DUNS/duns_denormalized.csv',sep='|',encoding='utf-8',\n",
    "                    dtype={\n",
    "                        'companyname':str,\n",
    "                          'countrycode':str,\n",
    "                          'countryname':str,\n",
    "                           'street':str,\n",
    "                           'city':str,\n",
    "                          'postalcode':str,\n",
    "                          'registerid':str,\n",
    "                          'source_level':str,\n",
    "                            'source_relation':str,\n",
    "                          'isglobalroot':bool})"
   ]
  },
  {
   "cell_type": "code",
   "execution_count": 3,
   "metadata": {
    "collapsed": false
   },
   "outputs": [],
   "source": [
    "filepath='../1-AD/6-sourcingreport/'\n",
    "filename='2017-10-18 ERP supplier Linkurious_2POR.xlsx'\n",
    "erpdata=pd.read_excel(filepath+filename)"
   ]
  },
  {
   "cell_type": "code",
   "execution_count": 6,
   "metadata": {
    "collapsed": false
   },
   "outputs": [],
   "source": [
    "erpdata.dropna(subset=['companysystemid'],inplace=True)\n",
    "erpdata.fillna('notavailable',inplace=True)"
   ]
  },
  {
   "cell_type": "code",
   "execution_count": 7,
   "metadata": {
    "collapsed": true
   },
   "outputs": [],
   "source": [
    "import neatmartinet as nm\n",
    "for c in ['dunsid']:\n",
    "    erpdata[c]=erpdata[c].apply(lambda r:nm.convert_int_to_str(n=r,fillwithzeroes=9))"
   ]
  },
  {
   "cell_type": "code",
   "execution_count": 8,
   "metadata": {
    "collapsed": false
   },
   "outputs": [],
   "source": [
    "neoimportpath='../../Neo4j/sourcingreport.graphdb/import/'\n",
    "erpdata.to_csv(neoimportpath+'erpdata_commasep.csv',encoding='utf-8',sep=',',index=False)"
   ]
  },
  {
   "cell_type": "code",
   "execution_count": 14,
   "metadata": {
    "collapsed": false
   },
   "outputs": [],
   "source": [
    "erpdata['postalcode']='notavailable'\n",
    "erpdata['street']='notavailable'\n",
    "erpdata['registerid']='notavailable'"
   ]
  },
  {
   "cell_type": "code",
   "execution_count": 15,
   "metadata": {
    "collapsed": false
   },
   "outputs": [
    {
     "data": {
      "text/plain": [
       "companysystemid    0\n",
       "systemid           0\n",
       "companylocalid     0\n",
       "companyname        0\n",
       "city               0\n",
       "countryname        0\n",
       "countrycode        0\n",
       "dunsid             0\n",
       "turnover           0\n",
       "ordervolume        0\n",
       "postalcode         0\n",
       "street             0\n",
       "registerid         0\n",
       "dtype: int64"
      ]
     },
     "execution_count": 15,
     "metadata": {},
     "output_type": "execute_result"
    }
   ],
   "source": [
    "erpdata.isnull().sum()"
   ]
  },
  {
   "cell_type": "markdown",
   "metadata": {},
   "source": [
    "# Load in neo4j"
   ]
  },
  {
   "cell_type": "markdown",
   "metadata": {},
   "source": [
    "### Connect to graph"
   ]
  },
  {
   "cell_type": "code",
   "execution_count": 17,
   "metadata": {
    "collapsed": true
   },
   "outputs": [],
   "source": [
    "import py2neo\n",
    "graph = py2neo.Graph(user='neo4j',password='admin')"
   ]
  },
  {
   "cell_type": "markdown",
   "metadata": {},
   "source": [
    "#### Load Erp"
   ]
  },
  {
   "cell_type": "code",
   "execution_count": 19,
   "metadata": {
    "collapsed": false
   },
   "outputs": [
    {
     "name": "stdout",
     "output_type": "stream",
     "text": [
      "{'constraints_added': 0, 'constraints_removed': 0, 'indexes_added': 0, 'indexes_removed': 0, 'labels_added': 86696, 'labels_removed': 0, 'nodes_created': 86696, 'nodes_deleted': 0, 'properties_set': 1127048, 'relationships_deleted': 0, 'relationships_created': 0, 'contains_updates': True}\n"
     ]
    }
   ],
   "source": [
    "query_uploaderp='''\n",
    "USING PERIODIC COMMIT 10000\n",
    "  LOAD CSV WITH HEADERS FROM 'file:///erpdata_commasep.csv' AS row\n",
    "    MERGE (c:ErpID{companysystemid: row.companysystemid})\n",
    "    ON CREATE SET\n",
    "        c.companysystemid=row.companysystemid,\n",
    "        c.systemid=row.systemid,\n",
    "        c.companylocalid=row.companylocalid,\n",
    "        c.dunsid=row.dunsid,\n",
    "        c.companyname=row.companyname,\n",
    "        c.countrycode=row.countrycode,\n",
    "        c.countryname=row.countryname,\n",
    "        c.street=row.street,\n",
    "        c.city=row.city,\n",
    "        c.postalcode=row.postalcode,\n",
    "        c.registerid=row.registerid,\n",
    "        c.turnover=toFloat(row.turnover),\n",
    "        c.ordervolume=toFloat(row.ordervolume),\n",
    "        c.creationdate=timestamp(),\n",
    "        c.lastseen=timestamp()\n",
    "    ON MATCH SET\n",
    "        c.lastseen=timestamp(),\n",
    "        c.spent=toFloat(row.spent);\n",
    "'''\n",
    "a=graph.run(query_uploaderp)\n",
    "print(a.stats())"
   ]
  },
  {
   "cell_type": "markdown",
   "metadata": {},
   "source": [
    "#### Create Relations"
   ]
  },
  {
   "cell_type": "code",
   "execution_count": 20,
   "metadata": {
    "collapsed": false
   },
   "outputs": [
    {
     "name": "stdout",
     "output_type": "stream",
     "text": [
      "{'constraints_added': 0, 'constraints_removed': 0, 'indexes_added': 0, 'indexes_removed': 0, 'labels_added': 0, 'labels_removed': 0, 'nodes_created': 0, 'nodes_deleted': 0, 'properties_set': 0, 'relationships_deleted': 0, 'relationships_created': 72457, 'contains_updates': True}\n"
     ]
    }
   ],
   "source": [
    "query_erphasduns='''\n",
    "MATCH (a:ErpID),(b:DunsID)\n",
    "WHERE b.dunsid = a.dunsid\n",
    "MERGE (a)-[:hasDuns]->(b)\n",
    "'''\n",
    "a=graph.run(query_erphasduns)\n",
    "print(a.stats())"
   ]
  },
  {
   "cell_type": "markdown",
   "metadata": {},
   "source": [
    "# TO DO : \n",
    "- Create Country relations\n",
    "- Write relation for RegisterId\n",
    "- Deal with NDM999999"
   ]
  },
  {
   "cell_type": "code",
   "execution_count": null,
   "metadata": {
    "collapsed": true
   },
   "outputs": [],
   "source": []
  }
 ],
 "metadata": {
  "kernelspec": {
   "display_name": "Python 3",
   "language": "python",
   "name": "python3"
  },
  "language_info": {
   "codemirror_mode": {
    "name": "ipython",
    "version": 3
   },
   "file_extension": ".py",
   "mimetype": "text/x-python",
   "name": "python",
   "nbconvert_exporter": "python",
   "pygments_lexer": "ipython3",
   "version": "3.6.1"
  }
 },
 "nbformat": 4,
 "nbformat_minor": 2
}
