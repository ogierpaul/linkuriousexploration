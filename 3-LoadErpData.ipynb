{
 "cells": [
  {
   "cell_type": "markdown",
   "metadata": {},
   "source": [
    "# Load Erp Data"
   ]
  },
  {
   "cell_type": "markdown",
   "metadata": {},
   "source": [
    "Find and format File"
   ]
  },
  {
   "cell_type": "markdown",
   "metadata": {},
   "source": [
    "erpdata=pd.read_csv('../1-AD/3-DUNS/duns_denormalized.csv',sep='|',encoding='utf-8',\n",
    "                    dtype={\n",
    "                        'companyname':str,\n",
    "                          'countrycode':str,\n",
    "                          'countryname':str,\n",
    "                           'street':str,\n",
    "                           'city':str,\n",
    "                          'postalcode':str,\n",
    "                          'registerid':str,\n",
    "                          'source_level':str,\n",
    "                            'source_relation':str,\n",
    "                          'isglobalroot':bool})"
   ]
  },
  {
   "cell_type": "code",
   "execution_count": 8,
   "metadata": {
    "collapsed": false
   },
   "outputs": [],
   "source": [
    "erpdata=pd.read_excel('erpexcel.xlsx')"
   ]
  },
  {
   "cell_type": "code",
   "execution_count": 9,
   "metadata": {
    "collapsed": false
   },
   "outputs": [],
   "source": [
    "erpdata.dropna(subset=['companysystemid'],inplace=True)\n",
    "erpdata.fillna('notavailable',inplace=True)"
   ]
  },
  {
   "cell_type": "code",
   "execution_count": 10,
   "metadata": {
    "collapsed": true
   },
   "outputs": [],
   "source": [
    "import neatmartinet as nm\n",
    "for c in ['dunsid']:\n",
    "    erpdata[c]=erpdata[c].apply(lambda r:nm.convert_int_to_str(n=r,fillwithzeroes=9))"
   ]
  },
  {
   "cell_type": "code",
   "execution_count": 11,
   "metadata": {
    "collapsed": false
   },
   "outputs": [],
   "source": [
    "erpdata.to_csv('../../Neo4j/sourcingreport.graphdb/import/erpdata_commasep.csv',encoding='utf-8',sep=',',index=False)"
   ]
  },
  {
   "cell_type": "markdown",
   "metadata": {},
   "source": [
    "# Load in neo4j"
   ]
  },
  {
   "cell_type": "markdown",
   "metadata": {},
   "source": [
    "### Connect to graph"
   ]
  },
  {
   "cell_type": "code",
   "execution_count": 12,
   "metadata": {
    "collapsed": true
   },
   "outputs": [],
   "source": [
    "import py2neo\n",
    "graph = py2neo.Graph(user='neo4j',password='admin')"
   ]
  },
  {
   "cell_type": "markdown",
   "metadata": {},
   "source": [
    "#### Load Erp"
   ]
  },
  {
   "cell_type": "code",
   "execution_count": 13,
   "metadata": {
    "collapsed": false
   },
   "outputs": [
    {
     "name": "stdout",
     "output_type": "stream",
     "text": [
      "{'constraints_added': 0, 'constraints_removed': 0, 'indexes_added': 0, 'indexes_removed': 0, 'labels_added': 0, 'labels_removed': 0, 'nodes_created': 0, 'nodes_deleted': 0, 'properties_set': 100, 'relationships_deleted': 0, 'relationships_created': 0, 'contains_updates': True}\n"
     ]
    }
   ],
   "source": [
    "query_uploaderp='''\n",
    "USING PERIODIC COMMIT 10000\n",
    "  LOAD CSV WITH HEADERS FROM 'file:///erpdata_commasep.csv' AS row\n",
    "    MERGE (c:ErpID{companysystemid: row.companysystemid})\n",
    "    ON CREATE SET\n",
    "        c.companysystemid=row.companysystemid,\n",
    "        c.systemid=row.systemid,\n",
    "        c.companylocalid=row.companylocalid,\n",
    "        c.dunsid=row.dunsid,\n",
    "        c.companyname=row.companyname,\n",
    "        c.countrycode=row.countrycode,\n",
    "        c.countryname=row.countryname,\n",
    "        c.street=row.street,\n",
    "        c.city=row.city,\n",
    "        c.postalcode=row.postalcode,\n",
    "        c.registerid=row.registerid,\n",
    "        c.spent=toFloat(row.spent),\n",
    "        c.creationdate=timestamp(),\n",
    "        c.lastseen=timestamp()\n",
    "    ON MATCH SET\n",
    "        c.lastseen=timestamp(),\n",
    "        c.spent=toFloat(row.spent);\n",
    "'''\n",
    "a=graph.run(query_uploaderp)\n",
    "print(a.stats())"
   ]
  },
  {
   "cell_type": "markdown",
   "metadata": {},
   "source": [
    "#### Create Relations"
   ]
  },
  {
   "cell_type": "code",
   "execution_count": 14,
   "metadata": {
    "collapsed": false
   },
   "outputs": [
    {
     "name": "stdout",
     "output_type": "stream",
     "text": [
      "{'constraints_added': 0, 'constraints_removed': 0, 'indexes_added': 0, 'indexes_removed': 0, 'labels_added': 0, 'labels_removed': 0, 'nodes_created': 0, 'nodes_deleted': 0, 'properties_set': 0, 'relationships_deleted': 0, 'relationships_created': 0, 'contains_updates': False}\n"
     ]
    }
   ],
   "source": [
    "query_erphasduns='''\n",
    "MATCH (a:ErpID),(b:DunsID)\n",
    "WHERE b.dunsid = a.dunsid\n",
    "MERGE (a)-[:hasDuns]->(b)\n",
    "'''\n",
    "a=graph.run(query_erphasduns)\n",
    "print(a.stats())"
   ]
  },
  {
   "cell_type": "markdown",
   "metadata": {},
   "source": [
    "# TO DO : \n",
    "- Create Country relations\n",
    "- Write relation for RegisterId"
   ]
  },
  {
   "cell_type": "code",
   "execution_count": null,
   "metadata": {
    "collapsed": true
   },
   "outputs": [],
   "source": []
  }
 ],
 "metadata": {
  "kernelspec": {
   "display_name": "Python 3",
   "language": "python",
   "name": "python3"
  },
  "language_info": {
   "codemirror_mode": {
    "name": "ipython",
    "version": 3
   },
   "file_extension": ".py",
   "mimetype": "text/x-python",
   "name": "python",
   "nbconvert_exporter": "python",
   "pygments_lexer": "ipython3",
   "version": "3.6.1"
  }
 },
 "nbformat": 4,
 "nbformat_minor": 2
}
